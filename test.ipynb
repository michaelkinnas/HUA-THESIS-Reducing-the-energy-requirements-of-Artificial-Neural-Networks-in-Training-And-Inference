{
 "cells": [
  {
   "cell_type": "code",
   "execution_count": 32,
   "metadata": {},
   "outputs": [
    {
     "name": "stdout",
     "output_type": "stream",
     "text": [
      "The autoreload extension is already loaded. To reload it, use:\n",
      "  %reload_ext autoreload\n"
     ]
    }
   ],
   "source": [
    "%load_ext autoreload\n",
    "%autoreload 2\n",
    "\n",
    "from utils.datasets import FashionMNISTc, INTEL\n",
    "from torchvision.transforms import Compose, ToTensor, Normalize, ToPILImage, Resize, Grayscale\n",
    "import numpy as np\n",
    "import torch"
   ]
  },
  {
   "cell_type": "code",
   "execution_count": 37,
   "metadata": {},
   "outputs": [],
   "source": [
    "transform = Compose([\n",
    "    # ToPILImage(),\n",
    "    Resize((32,32)),\n",
    "    \n",
    "    Grayscale(num_output_channels=3),\n",
    "    \n",
    "    ToTensor(),    \n",
    "    Normalize((0.2856, 0.2856, 0.2856), (0.3385, 0.3385, 0.3385))\n",
    "])\n",
    "\n",
    "\n",
    "mnist = FashionMNISTc(root=\"/media/mike/EXT4-480GB/Datasets/\", split='test', return_numpy=True, transform=transform, duplicate_ratio=0, transform_prob=0, seed=42)\n",
    "transform2 = Compose([\n",
    "    ToPILImage(),\n",
    "    Resize((32,32)),\n",
    "    \n",
    "    Grayscale(num_output_channels=3),\n",
    "    \n",
    "    ToTensor(),    \n",
    "    Normalize((0.2856, 0.2856, 0.2856), (0.3385, 0.3385, 0.3385))\n",
    "])\n",
    "\n",
    "intel = INTEL(root=\"/media/mike/EXT4-480GB/Datasets/\", split='test', return_numpy=True, transform=transform2, duplicate_ratio=0, transform_prob=0, seed=42)"
   ]
  },
  {
   "cell_type": "code",
   "execution_count": 40,
   "metadata": {},
   "outputs": [
    {
     "data": {
      "text/plain": [
       "array([[[0, 0, 0],\n",
       "        [0, 0, 0],\n",
       "        [0, 0, 0],\n",
       "        ...,\n",
       "        [0, 0, 0],\n",
       "        [0, 0, 0],\n",
       "        [0, 0, 0]],\n",
       "\n",
       "       [[0, 0, 0],\n",
       "        [0, 0, 0],\n",
       "        [0, 0, 0],\n",
       "        ...,\n",
       "        [0, 0, 0],\n",
       "        [0, 0, 0],\n",
       "        [0, 0, 0]],\n",
       "\n",
       "       [[0, 0, 0],\n",
       "        [0, 0, 0],\n",
       "        [0, 0, 0],\n",
       "        ...,\n",
       "        [0, 0, 0],\n",
       "        [0, 0, 0],\n",
       "        [0, 0, 0]],\n",
       "\n",
       "       ...,\n",
       "\n",
       "       [[0, 0, 0],\n",
       "        [0, 0, 0],\n",
       "        [0, 0, 0],\n",
       "        ...,\n",
       "        [0, 0, 0],\n",
       "        [0, 0, 0],\n",
       "        [0, 0, 0]],\n",
       "\n",
       "       [[0, 0, 0],\n",
       "        [0, 0, 0],\n",
       "        [0, 0, 0],\n",
       "        ...,\n",
       "        [0, 0, 0],\n",
       "        [0, 0, 0],\n",
       "        [0, 0, 0]],\n",
       "\n",
       "       [[0, 0, 0],\n",
       "        [0, 0, 0],\n",
       "        [0, 0, 0],\n",
       "        ...,\n",
       "        [0, 0, 0],\n",
       "        [0, 0, 0],\n",
       "        [0, 0, 0]]], dtype=uint8)"
      ]
     },
     "execution_count": 40,
     "metadata": {},
     "output_type": "execute_result"
    }
   ],
   "source": [
    "next(iter(mnist))[2]"
   ]
  },
  {
   "cell_type": "code",
   "execution_count": 24,
   "metadata": {},
   "outputs": [
    {
     "data": {
      "text/plain": [
       "array([[[228, 228, 236],\n",
       "        [226, 226, 234],\n",
       "        [226, 225, 231],\n",
       "        ...,\n",
       "        [129, 162, 205],\n",
       "        [129, 162, 205],\n",
       "        [128, 161, 204]],\n",
       "\n",
       "       [[226, 226, 236],\n",
       "        [224, 224, 232],\n",
       "        [223, 222, 230],\n",
       "        ...,\n",
       "        [129, 162, 205],\n",
       "        [129, 162, 205],\n",
       "        [129, 162, 205]],\n",
       "\n",
       "       [[224, 226, 238],\n",
       "        [225, 225, 235],\n",
       "        [225, 223, 234],\n",
       "        ...,\n",
       "        [129, 162, 205],\n",
       "        [129, 162, 205],\n",
       "        [129, 162, 205]],\n",
       "\n",
       "       ...,\n",
       "\n",
       "       [[144,  97,  71],\n",
       "        [117,  69,  46],\n",
       "        [170, 124, 101],\n",
       "        ...,\n",
       "        [181, 127,  99],\n",
       "        [126,  74,  53],\n",
       "        [170, 117,  99]],\n",
       "\n",
       "       [[143,  93,  68],\n",
       "        [149, 101,  78],\n",
       "        [139,  93,  70],\n",
       "        ...,\n",
       "        [220, 172, 136],\n",
       "        [145,  95,  68],\n",
       "        [173, 123,  98]],\n",
       "\n",
       "       [[152, 102,  77],\n",
       "        [185, 138, 112],\n",
       "        [100,  52,  30],\n",
       "        ...,\n",
       "        [182, 137,  98],\n",
       "        [118,  72,  39],\n",
       "        [166, 119,  91]]], dtype=uint8)"
      ]
     },
     "execution_count": 24,
     "metadata": {},
     "output_type": "execute_result"
    }
   ],
   "source": [
    "next(iter(intel))[2]\n"
   ]
  }
 ],
 "metadata": {
  "kernelspec": {
   "display_name": "Python 3",
   "language": "python",
   "name": "python3"
  },
  "language_info": {
   "codemirror_mode": {
    "name": "ipython",
    "version": 3
   },
   "file_extension": ".py",
   "mimetype": "text/x-python",
   "name": "python",
   "nbconvert_exporter": "python",
   "pygments_lexer": "ipython3",
   "version": "3.12.6"
  }
 },
 "nbformat": 4,
 "nbformat_minor": 2
}
